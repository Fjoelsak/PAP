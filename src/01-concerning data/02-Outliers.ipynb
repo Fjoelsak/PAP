{
 "cells": [
  {
   "cell_type": "markdown",
   "metadata": {
    "id": "MTlSUhd1dV0M"
   },
   "source": [
    "# Exercise: outliers\n"
   ]
  },
  {
   "cell_type": "markdown",
   "metadata": {
    "id": "y99P-PBidg1E"
   },
   "source": [
    "First, look at the dataset of adult body weights."
   ]
  },
  {
   "cell_type": "code",
   "metadata": {
    "id": "ZmzgPMa1eQFs",
    "ExecuteTime": {
     "end_time": "2024-11-13T08:25:34.107825Z",
     "start_time": "2024-11-13T08:25:34.101082Z"
    }
   },
   "source": [
    "#import packages\n",
    "import numpy as np\n",
    "import matplotlib.pyplot as plt\n",
    "import random\n",
    "\n",
    "# define your dataset of normal distribution adults\n",
    "normsample_adults = np.random.normal(80, 20, 30)\n",
    "outliers = np.array([170, 10, 25, 135])\n",
    "data = np.append(normsample_adults, outliers)\n",
    "print(data)"
   ],
   "outputs": [
    {
     "name": "stdout",
     "output_type": "stream",
     "text": [
      "[116.07370835  70.03949216  38.88003256  74.72313921  86.49399828\n",
      " 110.47289734  63.52772129  82.62608653  96.80121506  82.1155329\n",
      "  56.28418098  87.79351564  34.1416722   58.72488037  83.17156928\n",
      "  54.96586515  85.32766967  95.15233078  82.73426116  87.53566446\n",
      "  78.06153824  59.68353361  70.52592217  97.29330302  98.38517609\n",
      "  97.67413249  57.79831857  78.84132954  64.97016902 113.29173933\n",
      " 170.          10.          25.         135.        ]\n"
     ]
    }
   ],
   "execution_count": 1
  },
  {
   "cell_type": "markdown",
   "metadata": {
    "id": "ZgRCLLiZeWgS"
   },
   "source": [
    "Second, visualize the data as boxplot by using the **Seaborn** data visualization library  ([Link to Seaborn Boxplot Doku](https://seaborn.pydata.org/generated/seaborn.boxplot.html))."
   ]
  },
  {
   "cell_type": "code",
   "execution_count": null,
   "metadata": {
    "id": "gEr4SGcOfx3I"
   },
   "outputs": [],
   "source": [
    "# Visualize the data as boxplot\n",
    "import seaborn as sns\n",
    "..."
   ]
  },
  {
   "cell_type": "markdown",
   "metadata": {
    "id": "KvrezzQQf2EZ"
   },
   "source": [
    "Third, print *Q1*, *Median*, *Q3*, and *IQR* and compare the values with your boxplot. There are differnt ways to do this."
   ]
  },
  {
   "cell_type": "code",
   "execution_count": null,
   "metadata": {
    "id": "49GHbqi9gWHW"
   },
   "outputs": [],
   "source": [
    "..."
   ]
  },
  {
   "cell_type": "markdown",
   "metadata": {
    "id": "ZxH5Z-pggebt"
   },
   "source": [
    "Write a function `find_outliers(data)` and `find_extreme_outliers`(data) to detect outlier and extreme outlier in your dataset."
   ]
  },
  {
   "cell_type": "code",
   "execution_count": null,
   "metadata": {
    "id": "m5zT0Qe0_mRL"
   },
   "outputs": [],
   "source": [
    "# function detection outlier in one-dimensional datasets.\n",
    "def find_outliers(data):\n",
    "    ...\n",
    "    return detected_outliers\n",
    "\n",
    "# function detection extreme outlier in one-dimensional datasets.\n",
    "def find_extreme_outliers(data):\n",
    "    ...\n",
    "    return detected_extreme_outliers"
   ]
  },
  {
   "cell_type": "markdown",
   "metadata": {
    "id": "j3JBhQ3_eLhD"
   },
   "source": [
    "What are the outliers and extreme outliers of your dataset?\n",
    "\n",
    "*Hint:* you can execute the code repeatly and compare the results for the different random generated datasets."
   ]
  },
  {
   "cell_type": "code",
   "execution_count": null,
   "metadata": {
    "id": "9Xws-8azZWCN"
   },
   "outputs": [],
   "source": [
    "print (\"Outliers = \",find_outliers(data))\n",
    "print (\"Extreme outliers = \",find_extreme_outliers(data))\n"
   ]
  }
 ],
 "metadata": {
  "colab": {
   "provenance": []
  },
  "kernelspec": {
   "display_name": "Python 3 (ipykernel)",
   "name": "python3",
   "language": "python"
  },
  "language_info": {
   "codemirror_mode": {
    "name": "ipython",
    "version": 3
   },
   "file_extension": ".py",
   "mimetype": "text/x-python",
   "name": "python",
   "nbconvert_exporter": "python",
   "pygments_lexer": "ipython3",
   "version": "3.9.12"
  }
 },
 "nbformat": 4,
 "nbformat_minor": 0
}
