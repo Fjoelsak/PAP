{
 "cells": [
  {
   "metadata": {},
   "cell_type": "markdown",
   "source": "# Lecture: Coping with missing data in python",
   "id": "c118e1ed5b0ee48f"
  },
  {
   "metadata": {},
   "cell_type": "markdown",
   "source": "At first, we are looking at a small exemplary dataset with missing values.",
   "id": "41d7aa8921ba9df8"
  },
  {
   "cell_type": "code",
   "id": "initial_id",
   "metadata": {
    "collapsed": true
   },
   "source": [
    "import pandas as pd\n",
    "\n",
    "df = pd.read_csv('../../data/propertydata.csv')\n",
    "\n",
    "print(df)"
   ],
   "outputs": [],
   "execution_count": null
  },
  {
   "metadata": {},
   "cell_type": "markdown",
   "source": "Since there are some inconsistent encodings of NaN values we first preprocess the data to a more consistent format by standardization.",
   "id": "58e38f0973545cdb"
  },
  {
   "metadata": {},
   "cell_type": "code",
   "source": [
    "df = pd.read_csv('../../data/propertydata.csv', na_values=['na', '--'])\n",
    "print(df)"
   ],
   "id": "5d203f59f56f8181",
   "outputs": [],
   "execution_count": null
  },
  {
   "metadata": {},
   "cell_type": "code",
   "source": [
    "import missingno as msno\n",
    "import matplotlib.pyplot as plt\n",
    "\n",
    "msno.matrix(df)\n",
    "plt.plot()"
   ],
   "id": "5cca7f9aa01b74e2",
   "outputs": [],
   "execution_count": null
  },
  {
   "metadata": {},
   "cell_type": "markdown",
   "source": "A very simple listwise deletion method would lead to an unsatisfactory result.",
   "id": "7c35ac823b845a6f"
  },
  {
   "metadata": {},
   "cell_type": "code",
   "source": [
    "# Simulate listwise deletion\n",
    "print(df.dropna())"
   ],
   "id": "8e51d4922ccbdd4d",
   "outputs": [],
   "execution_count": null
  },
  {
   "metadata": {},
   "cell_type": "markdown",
   "source": [
    "### The feature ST_NUM\n",
    "\n",
    "At first, we look at the feature `ST_NUM`, the house number of the property. Obviously, it is a discrete numerical value."
   ],
   "id": "3101cae4811bfb1e"
  },
  {
   "metadata": {},
   "cell_type": "code",
   "source": [
    "print(df[['ST_NUM']])\n",
    "df[['ST_NUM']].describe()"
   ],
   "id": "76fa77b6f60c6aaf",
   "outputs": [],
   "execution_count": null
  },
  {
   "metadata": {},
   "cell_type": "markdown",
   "source": " Imputing with `mean_strategy` is questionable due to the context and requires additional rounding at the end.",
   "id": "e18c190717b9949d"
  },
  {
   "metadata": {},
   "cell_type": "code",
   "source": [
    "import numpy as np\n",
    "from sklearn.impute import SimpleImputer\n",
    "\n",
    "imp_mean = SimpleImputer(missing_values=np.nan, strategy='mean')\n",
    "df['ST_NUM']=imp_mean.fit_transform(df[['ST_NUM']])\n",
    "df['ST_NUM']= df['ST_NUM'].astype(int)\n",
    "print(df['ST_NUM'])"
   ],
   "id": "785588b5090cee67",
   "outputs": [],
   "execution_count": null
  },
  {
   "metadata": {},
   "cell_type": "markdown",
   "source": "Another possibility would be a random choice between the min and max values of the range of `ST_NUM`. This can be implemented with the `random` package and the `randint(min,max)` method.",
   "id": "eae856cf38bdd31a"
  },
  {
   "metadata": {},
   "cell_type": "markdown",
   "source": [
    "### The feature OWN_OCCUPIED\n",
    "Obviously, this is a binary categorial feature. There is not a missing entry only but also an invalid entry (number 12 in line 3)."
   ],
   "id": "15c26aa83ad7a459"
  },
  {
   "metadata": {},
   "cell_type": "code",
   "source": "print(df)",
   "id": "d05f32ffd40452ff",
   "outputs": [],
   "execution_count": null
  },
  {
   "metadata": {},
   "cell_type": "markdown",
   "source": "To get a consistent feature, we need to go through all the entries and get rid of false datatypes.",
   "id": "d187a07b7419fb92"
  },
  {
   "metadata": {},
   "cell_type": "code",
   "source": [
    "# Handle OWN_OCCUPIED\n",
    "cnt = 0\n",
    "for row in df['OWN_OCCUPIED']:\n",
    "    try:\n",
    "       # Try to cast value to int\n",
    "        int(row)\n",
    "        # If possible, replace that value\n",
    "        df.loc[cnt, 'OWN_OCCUPIED'] = np.nan\n",
    "    except ValueError:\n",
    "        pass\n",
    "    cnt += 1\n",
    "print(df['OWN_OCCUPIED'])"
   ],
   "id": "f59fdd18cfdf1bd6",
   "outputs": [],
   "execution_count": null
  },
  {
   "metadata": {},
   "cell_type": "code",
   "source": [
    "from sklearn.impute import SimpleImputer\n",
    "\n",
    "imp_mean = SimpleImputer(missing_values=np.nan, strategy='most_frequent')\n",
    "df[['OWN_OCCUPIED']]=imp_mean.fit_transform(df[['OWN_OCCUPIED']])\n",
    "print(df['OWN_OCCUPIED'])"
   ],
   "id": "a3b7d443044dce5d",
   "outputs": [],
   "execution_count": null
  },
  {
   "metadata": {},
   "cell_type": "markdown",
   "source": [
    "### The feature NUM_BATH\n",
    "\n",
    "The same holds for this feature. We need to go through all entries and get rid of inconsistent datatypes."
   ],
   "id": "896d0dc0b1874b5c"
  },
  {
   "metadata": {},
   "cell_type": "code",
   "source": [
    "# Handle NUM_BATH\n",
    "cnt = 0\n",
    "for row in df['NUM_BATH']:\n",
    "    try:\n",
    "        # Try to cast value to float\n",
    "        int(row) #float(row)\n",
    "    except ValueError:\n",
    "        # If NOT possible, replace that value\n",
    "        df.loc[cnt, 'NUM_BATH'] = np.nan\n",
    "    cnt += 1\n",
    "print(df['NUM_BATH'])"
   ],
   "id": "5b95c700fe3b2e6b",
   "outputs": [],
   "execution_count": null
  },
  {
   "metadata": {},
   "cell_type": "code",
   "source": [
    "from sklearn.impute import SimpleImputer\n",
    "\n",
    "imp_mean = SimpleImputer(missing_values=np.nan, strategy='mean')\n",
    "df[['NUM_BATH']]=imp_mean.fit_transform(df[['NUM_BATH']])\n",
    "df['NUM_BATH']= df['NUM_BATH'].astype(int)\n",
    "print(df['NUM_BATH'])"
   ],
   "id": "d14bdaca9b9c0681",
   "outputs": [],
   "execution_count": null
  },
  {
   "metadata": {},
   "cell_type": "markdown",
   "source": [
    "### The feature NUM_BEDROOMS\n",
    "The feature NUM_BEDROOMS is a discrete numerical feature."
   ],
   "id": "42c778b03cf71052"
  },
  {
   "metadata": {},
   "cell_type": "code",
   "source": "print(df[['NUM_BEDROOMS']])",
   "id": "6508955cbc843d9e",
   "outputs": [],
   "execution_count": null
  },
  {
   "metadata": {},
   "cell_type": "markdown",
   "source": "It is reasonable to either impute the rounded mean value or to use a more profound method like imputing integer values within the range according to a probability distribution of the entries. The former can be done analogously to the imputation methods shown above.",
   "id": "82d57b71dac2d529"
  },
  {
   "metadata": {},
   "cell_type": "code",
   "source": "print(df[['NUM_BEDROOMS']])",
   "id": "ef6e48e130f96c20",
   "outputs": [],
   "execution_count": null
  },
  {
   "metadata": {},
   "cell_type": "markdown",
   "source": [
    "The latter can be implemented in two steps:\n",
    "1. compute the discrete probability distribution of the used values\n",
    "2. impute according to this distribution"
   ],
   "id": "2b065cb3bbeaafe0"
  },
  {
   "metadata": {},
   "cell_type": "code",
   "source": [
    "# For step 1 count the number of appearing values\n",
    "counts = df['NUM_BEDROOMS'].value_counts()\n",
    "\n",
    "# and divide them by the number of entries\n",
    "probabilities = counts / counts.sum()\n",
    "\n",
    "print(probabilities)\n"
   ],
   "id": "1c36a8f910f9c563",
   "outputs": [],
   "execution_count": null
  },
  {
   "metadata": {},
   "cell_type": "code",
   "source": [
    "for idx, row in enumerate(df['NUM_BEDROOMS']):\n",
    "    if pd.isnull(row):\n",
    "        df.loc[idx, 'NUM_BEDROOMS'] = np.random.choice(probabilities.index, p = probabilities)\n",
    "\n",
    "print(df['NUM_BEDROOMS'])"
   ],
   "id": "ead3b0e3310b0bbb",
   "outputs": [],
   "execution_count": null
  },
  {
   "metadata": {},
   "cell_type": "markdown",
   "source": [
    "### The feature SQ_FT\n",
    "\n",
    "This is a numerical feature which can be easily imputed with mean values in the given context."
   ],
   "id": "1d4f5b03ddc7f93a"
  },
  {
   "metadata": {},
   "cell_type": "code",
   "source": [
    "# Perform mean imputation and down-cast to int to get rid of values like 2.167 bedrooms\n",
    "imp_mean = SimpleImputer(missing_values=np.nan, strategy='mean')\n",
    "\n",
    "df['SQ_FT'] = imp_mean.fit_transform(df[['SQ_FT']])\n",
    "df['SQ_FT'] = df['SQ_FT'].astype(int)"
   ],
   "id": "fd4c3cb73159a695",
   "outputs": [],
   "execution_count": null
  },
  {
   "metadata": {},
   "cell_type": "code",
   "source": "print(df)",
   "id": "6342aabdacfd4f7d",
   "outputs": [],
   "execution_count": null
  },
  {
   "metadata": {},
   "cell_type": "code",
   "source": [
    "msno.matrix(df)\n",
    "plt.plot()"
   ],
   "id": "70c2d3c657ac558c",
   "outputs": [],
   "execution_count": null
  }
 ],
 "metadata": {
  "kernelspec": {
   "display_name": "Python 3",
   "language": "python",
   "name": "python3"
  },
  "language_info": {
   "codemirror_mode": {
    "name": "ipython",
    "version": 2
   },
   "file_extension": ".py",
   "mimetype": "text/x-python",
   "name": "python",
   "nbconvert_exporter": "python",
   "pygments_lexer": "ipython2",
   "version": "2.7.6"
  }
 },
 "nbformat": 4,
 "nbformat_minor": 5
}
