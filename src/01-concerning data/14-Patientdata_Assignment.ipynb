{
 "cells": [
  {
   "metadata": {},
   "cell_type": "markdown",
   "source": [
    "# Assignment - Concerning data\n",
    "\n",
    "A patient dataset with 100 lines and 9 features is given in `../../data/patientdata.csv`. Some incorrect or missing entries were found when collecting the data.\n",
    " The data set is to be prepared so that you can later apply the models you have learnt.\n",
    "\n",
    "- Get an overview of the problems with the given data set. What do you notice?\n",
    "- Think about how you can prepare the data set without losing too much data and implement this in python."
   ],
   "id": "df48c08f40a6f45f"
  },
  {
   "metadata": {},
   "cell_type": "code",
   "outputs": [],
   "execution_count": null,
   "source": [
    "import pandas as pd\n",
    "\n",
    "# Import the data\n",
    "patientdata = ..."
   ],
   "id": "d5a2e233b856d5ff"
  },
  {
   "metadata": {},
   "cell_type": "markdown",
   "source": "In order to show the whole dataset instead of just the first lines, execute the following cell.",
   "id": "85c2dd3fc306cb64"
  },
  {
   "metadata": {},
   "cell_type": "code",
   "outputs": [],
   "execution_count": null,
   "source": "pd.set_option('display.max_rows', None, 'display.max_columns', None)",
   "id": "a84080a058ecab2c"
  },
  {
   "metadata": {},
   "cell_type": "markdown",
   "source": "The package `missingno` may be helpful to visualize gaps in the dataset.",
   "id": "85ea2769c26d364d"
  },
  {
   "metadata": {},
   "cell_type": "code",
   "outputs": [],
   "execution_count": null,
   "source": [
    "import matplotlib.pyplot as plt\n",
    "import missingno as msno\n",
    "\n",
    "# Visualize gaps in data\n",
    "msno.matrix(patientdata)\n",
    "plt.show()"
   ],
   "id": "e023bf2e11b45702"
  }
 ],
 "metadata": {},
 "nbformat": 5,
 "nbformat_minor": 9
}
