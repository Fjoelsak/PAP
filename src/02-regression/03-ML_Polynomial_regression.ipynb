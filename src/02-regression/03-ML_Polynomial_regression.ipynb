{
 "cells": [
  {
   "cell_type": "markdown",
   "metadata": {},
   "source": [
    "# Excercise: Polynomial regression"
   ]
  },
  {
   "cell_type": "markdown",
   "metadata": {},
   "source": [
    "Look at the code below and try to understand it. Then, run the code, and see if you can understand the output. Which type ist the output and what does it represent? Display the first lines of the output."
   ]
  },
  {
   "cell_type": "code",
   "metadata": {
    "ExecuteTime": {
     "end_time": "2024-11-26T16:39:08.076983Z",
     "start_time": "2024-11-26T16:39:08.072740Z"
    }
   },
   "source": [
    "import numpy as np\n",
    "import pandas as pd\n",
    "\n",
    "# Create the data with 20 samples and 2 features\n",
    "np.random.seed(0)\n",
    "x1 = np.asarray(sorted(2 - 1 * np.random.normal(0, 1, 20)))\n",
    "x2 = np.asarray(sorted(3 + 2 * np.random.normal(0, 1, 20)))\n",
    "\n",
    "y = x1 - 2*(x1*x2) + 0.5 * (x1**3) + 0.2 * (x2**3) + 0.1*(x1*x2**2) + np.random.normal(-3,3, 20)\n",
    "\n",
    "# Create a dataset from numpy arrays\n",
    "dataset = pd.DataFrame([x1, x2, y]).T\n",
    "dataset.columns = ['x1', 'x2', 'y']"
   ],
   "outputs": [],
   "execution_count": 1
  },
  {
   "cell_type": "markdown",
   "metadata": {},
   "source": [
    "Visualize the data using the seaborn package with a pairplot. What do you see? What is the relationship between the variables?"
   ]
  },
  {
   "cell_type": "code",
   "metadata": {},
   "source": [
    "import seaborn as sn\n",
    "\n",
    "..."
   ],
   "outputs": [],
   "execution_count": null
  },
  {
   "cell_type": "markdown",
   "metadata": {},
   "source": [
    "Create polynomial features and get the new feature names using the `get_feature_names()` method. What is the new shape of the data?"
   ]
  },
  {
   "cell_type": "code",
   "metadata": {
    "ExecuteTime": {
     "end_time": "2024-11-13T21:53:30.995026Z",
     "start_time": "2024-11-13T21:53:30.982948Z"
    }
   },
   "source": [
    "from sklearn.preprocessing import PolynomialFeatures\n",
    "\n",
    "..."
   ],
   "outputs": [],
   "execution_count": 9
  },
  {
   "cell_type": "markdown",
   "metadata": {},
   "source": [
    "Train a polynomial regression model with the new features and visualize the predictions in two separate plots (x1 vs y and x2 vs y). Plot the predicted values as a line and the true values as points. What do you observe?"
   ]
  },
  {
   "cell_type": "code",
   "metadata": {},
   "source": [
    "from sklearn.linear_model import LinearRegression\n",
    "import matplotlib.pyplot as plt\n",
    "\n",
    "..."
   ],
   "outputs": [],
   "execution_count": null
  }
 ],
 "metadata": {
  "kernelspec": {
   "display_name": "Python 3 (ipykernel)",
   "language": "python",
   "name": "python3"
  },
  "language_info": {
   "codemirror_mode": {
    "name": "ipython",
    "version": 3
   },
   "file_extension": ".py",
   "mimetype": "text/x-python",
   "name": "python",
   "nbconvert_exporter": "python",
   "pygments_lexer": "ipython3",
   "version": "3.9.12"
  }
 },
 "nbformat": 4,
 "nbformat_minor": 4
}
