{
 "cells": [
  {
   "metadata": {},
   "cell_type": "markdown",
   "source": "# Excercise: Perceptron",
   "id": "fc1ca1d9c1bb48d7"
  },
  {
   "metadata": {},
   "cell_type": "markdown",
   "source": "Load the dataset from `carclassification.csv` and plot the datapoints with respect to their classes using the `c` and `cmap` parameters of the `scatter` function.",
   "id": "55f74a8600e0e0dc"
  },
  {
   "metadata": {},
   "cell_type": "code",
   "outputs": [],
   "execution_count": null,
   "source": [
    "import pandas as pd\n",
    "\n",
    "..."
   ],
   "id": "9d9f2c9d86970e96"
  },
  {
   "metadata": {},
   "cell_type": "code",
   "outputs": [],
   "execution_count": null,
   "source": [
    "import matplotlib.pyplot as plt\n",
    "\n",
    "..."
   ],
   "id": "575f033c50070a03"
  },
  {
   "metadata": {},
   "cell_type": "markdown",
   "source": "Scale the dataset with a StandardScaler, classify it using Perceptron algorithm and plot the decision boundary with the helpf of the following code snippet",
   "id": "28c3211bea6df9d9"
  },
  {
   "metadata": {},
   "cell_type": "code",
   "outputs": [],
   "execution_count": null,
   "source": [
    "import matplotlib.pyplot as plt\n",
    "import numpy as np\n",
    "\n",
    "# Plot erstellen\n",
    "def plot_decision_boundary(X, y, model):\n",
    "    # Erstellen Sie ein Gitter von Punkten zum Plotten\n",
    "    x_min, x_max = X[:, 0].min() - .2, X[:, 0].max() + .2\n",
    "    y_min, y_max = X[:, 1].min() - .2, X[:, 1].max() + .2\n",
    "    xx, yy = np.meshgrid(np.arange(x_min, x_max, .01),\n",
    "                         np.arange(y_min, y_max, .01))\n",
    "    \n",
    "    # Vorhersagen für jedes Gitterpunktpaar\n",
    "    Z = model.predict(np.c_[xx.ravel(), yy.ravel()])\n",
    "    Z = Z.reshape(xx.shape)\n",
    "    \n",
    "    # Plotten Sie die Entscheidungsgrenze\n",
    "    plt.contourf(xx, yy, Z, levels=[-1, 0, 1], alpha=.4, cmap=plt.cm.Paired)\n",
    "    plt.scatter(X[:, 0], X[:, 1], c=y, s=50, edgecolor='k', cmap=plt.cm.Paired)\n",
    "    plt.xlabel('Price')\n",
    "    plt.ylabel('Horse power')\n",
    "    plt.title('Decision Boundary of Perceptron')\n",
    "    plt.show()"
   ],
   "id": "f73aa8071d2a6bdf"
  },
  {
   "metadata": {},
   "cell_type": "code",
   "outputs": [],
   "execution_count": null,
   "source": [
    "from sklearn.linear_model import Perceptron\n",
    "from sklearn.preprocessing import StandardScaler\n",
    "\n",
    "X = ...\n",
    "y = ...\n",
    "\n",
    "..."
   ],
   "id": "684ba2c22df4f73c"
  },
  {
   "metadata": {},
   "cell_type": "markdown",
   "source": "How good is the classifier? Use the `score` function from the `sklearn.metrics` module to find out.",
   "id": "ae07abfec8d6ca8d"
  },
  {
   "metadata": {},
   "cell_type": "code",
   "outputs": [],
   "execution_count": null,
   "source": "...",
   "id": "8636f43e6fdd8702"
  },
  {
   "metadata": {},
   "cell_type": "markdown",
   "source": [
    "# Linear Separability\n",
    "\n",
    "In the following, we look at the learning of simple logical relationships using a perceptron in order to familiarise ourselves with the limits of the model. The basis for the application of the perceptron is linear separability. This is usually the case for simple classification problems, but there are also scenarios that can no longer be modelled using the perceptron."
   ],
   "id": "b1b5eeb242ca6d03"
  },
  {
   "metadata": {},
   "cell_type": "code",
   "outputs": [],
   "execution_count": null,
   "source": [
    "import numpy as np\n",
    "\n",
    "# method to generate data for logical functions\n",
    "def generate_data(n, label):\n",
    "    X = []\n",
    "    Y = []\n",
    "\n",
    "    for x1, x2 in zip(np.random.randint(low=0, high=100, size=n), np.random.randint(low=0, high=100, size=n)):\n",
    "        if label == 'AND':\n",
    "            if x1 >= 50 and x2 >= 50:\n",
    "                Y.append(1)\n",
    "            else:\n",
    "                Y.append(0)\n",
    "        if label == 'OR':\n",
    "            if x1 >= 50 or x2 >= 50:\n",
    "                Y.append(1)\n",
    "            else:\n",
    "                Y.append(0)\n",
    "        if label == 'XOR':\n",
    "            if (x1 >= 50 > x2) or (x1 < 50 <= x2):\n",
    "                Y.append(1)\n",
    "            else:\n",
    "                Y.append(0)\n",
    "\n",
    "        X.append([x1/100, x2/100])\n",
    "\n",
    "    return np.asarray(X), np.asarray(Y)"
   ],
   "id": "246d5346d1d9181b"
  },
  {
   "metadata": {},
   "cell_type": "markdown",
   "source": [
    "### The OR function\n",
    "\n",
    "Generate the data for the OR function and train a perceptron on it. Plot the decision boundary. How good is the classifier?"
   ],
   "id": "d9c6079477046a91"
  },
  {
   "metadata": {},
   "cell_type": "code",
   "outputs": [],
   "execution_count": null,
   "source": [
    "from sklearn.linear_model import Perceptron\n",
    "\n",
    "X_or, y_or = generate_data(100, 'OR')\n",
    "\n",
    "..."
   ],
   "id": "72eccdce5a52377b"
  },
  {
   "metadata": {},
   "cell_type": "markdown",
   "source": [
    "### The AND function\n",
    "\n",
    "Generate the data for the AND function and train a perceptron on it. Plot the decision boundary. How good is the classifier?"
   ],
   "id": "978f32ed06508925"
  },
  {
   "metadata": {},
   "cell_type": "code",
   "outputs": [],
   "execution_count": null,
   "source": [
    "from sklearn.linear_model import Perceptron\n",
    "\n",
    "X_and, y_and = generate_data(100, 'AND')\n",
    "\n",
    "..."
   ],
   "id": "ca23a05439f56c3a"
  },
  {
   "metadata": {},
   "cell_type": "markdown",
   "source": [
    "### The XOR-Function\n",
    "\n",
    "Generate the data for the XOR function and train a perceptron on it. Plot the decision boundary. How good is the classifier?"
   ],
   "id": "137f257b51d5e37e"
  },
  {
   "metadata": {},
   "cell_type": "code",
   "outputs": [],
   "execution_count": null,
   "source": [
    "from sklearn.linear_model import Perceptron\n",
    "\n",
    "X_xor, y_xor = generate_data(100, 'XOR')\n",
    "\n",
    "..."
   ],
   "id": "ead30aeafc6d4e90"
  }
 ],
 "metadata": {},
 "nbformat": 4,
 "nbformat_minor": 2
}
