{
 "cells": [
  {
   "metadata": {},
   "cell_type": "code",
   "outputs": [],
   "execution_count": null,
   "source": [
    "# Excercise 1: Logistic Regression with Python\n",
    "\n",
    "Load the dataset Data_LogReg.csv as a DataFrame and visualize the first rows of the dataset."
   ],
   "id": "cb841da8aa21a54e"
  },
  {
   "metadata": {},
   "cell_type": "code",
   "outputs": [],
   "execution_count": null,
   "source": [
    "import pandas as pd\n",
    "\n",
    "dataset = pd.read_csv(\"../../data/logregdata.csv\")\n",
    "dataset.head()"
   ],
   "id": "ac2af6878145045e"
  },
  {
   "metadata": {},
   "cell_type": "markdown",
   "source": "Plot a scatter plot of the data using matplotlib.pyplot",
   "id": "1e727f9b82c08d10"
  },
  {
   "metadata": {},
   "cell_type": "code",
   "outputs": [],
   "execution_count": null,
   "source": [
    "import matplotlib.pyplot as plt\n",
    "\n",
    "plt.scatter(dataset['Income'], dataset['Purchase(Y/N)'], color = 'red')\n",
    "plt.xlabel('Income in €')\n",
    "plt.ylabel('Purchase (Y/N)')\n",
    "plt.title('Purchase vs Income')\n",
    "plt.show()"
   ],
   "id": "bf97e05155afd6d9"
  },
  {
   "metadata": {},
   "cell_type": "markdown",
   "source": "Scale the data using the Standard Scaler from the sklearn package (https://scikit-learn.org/stable/modules/generated/sklearn.preprocessing.StandardScaler.html#sklearn.preprocessing.StandardScaler)",
   "id": "63a440cc4ad50653"
  },
  {
   "metadata": {},
   "cell_type": "code",
   "outputs": [],
   "execution_count": null,
   "source": [
    "from sklearn.preprocessing import StandardScaler\n",
    "import numpy as np\n",
    "\n",
    "scaler = StandardScaler()\n",
    "X_sc = scaler.fit_transform(dataset[['Income']])\n",
    "\n",
    "print(np.mean(X_sc))\n",
    "print(np.std(X_sc))"
   ],
   "id": "ee015f8be1ba1515"
  },
  {
   "metadata": {},
   "cell_type": "markdown",
   "source": "Split the data into a training and test data set with a fraction of 80%/20%, respectively.",
   "id": "5f7bf53cbca1a46d"
  },
  {
   "metadata": {},
   "cell_type": "code",
   "outputs": [],
   "execution_count": null,
   "source": [
    "from sklearn.model_selection import train_test_split\n",
    "\n",
    "X_train_sc, X_test_sc, y_train, y_test = train_test_split(X_sc, dataset['Purchase(Y/N)'], test_size = 0.2, random_state = 0)"
   ],
   "id": "c7af0b22bc855f10"
  },
  {
   "metadata": {},
   "cell_type": "markdown",
   "source": "Instantiate a logistic Regressor, train it, do a reverse scaling on the X values and plot it with the data in a scatter plot. Determine how you can plot the lineplot of the classifier. Sorting things can be useful here.",
   "id": "3aa0dd99ce6c5654"
  },
  {
   "metadata": {},
   "cell_type": "code",
   "outputs": [],
   "execution_count": null,
   "source": [
    "import numpy as np\n",
    "import matplotlib.pyplot as plt\n",
    "\n",
    "from sklearn.linear_model import LogisticRegression\n",
    "\n",
    "classifier = LogisticRegression()\n",
    "classifier.fit(X_train_sc, y_train)\n",
    "\n",
    "X_train = scaler.inverse_transform(X_train_sc)\n",
    "X_test = scaler.inverse_transform(X_test_sc)\n",
    "\n",
    "# classifier returns output for each class!\n",
    "y_train_pred = classifier.predict_proba(np.sort(X_train_sc, axis=0))[:,1]\n",
    "plt.scatter(X_train, y_train, color='red')\n",
    "plt.plot(np.sort(X_train, axis=0), y_train_pred, color='green')\n",
    "plt.xlabel('Income in €')\n",
    "plt.ylabel('Purchase (Y/N)')\n",
    "plt.title('Purchase vs Income')\n",
    "plt.show()\n",
    "\n",
    "y_test_pred = classifier.predict_proba(np.sort(X_test_sc, axis=0))[:,1]\n",
    "plt.scatter(X_test, y_test, color='blue')\n",
    "plt.plot(np.sort(X_test, axis=0), y_test_pred, color='green')\n",
    "plt.xlabel('Income in €')\n",
    "plt.ylabel('Purchase (Y/N)')\n",
    "plt.title('Purchase vs Income')\n",
    "plt.show()\n",
    "\n"
   ],
   "id": "3acfe3e956ab708a"
  },
  {
   "metadata": {},
   "cell_type": "markdown",
   "source": "# Exercise 2: Performance metrics for classifiers",
   "id": "94d42b96a1f29600"
  },
  {
   "metadata": {},
   "cell_type": "markdown",
   "source": [
    "Take the classifier you trained above, predict the test data and calculate the accuracy, precision, sensitivity (recall) and specificity of the classifier.\n",
    "\n",
    "Remark: you can use again the heatmap method from the seaborn package to plot the confusion matrix in a nice way."
   ],
   "id": "444c34844afb59ba"
  },
  {
   "metadata": {},
   "cell_type": "code",
   "outputs": [],
   "execution_count": null,
   "source": [
    "from sklearn.metrics import confusion_matrix\n",
    "import seaborn as sns\n",
    "\n",
    "# Predicting the Test set results\n",
    "y_pred = classifier.predict(X_test_sc)\n",
    "\n",
    "# Making the Confusion Matrix\n",
    "cm = confusion_matrix(y_test, y_pred)\n",
    "print(\"Confusion Matrix:\\n \" + str(cm))\n",
    "\n",
    "# Plot confusion matrix\n",
    "# confusion matrix sns heatmap \n",
    "ax = plt.axes()\n",
    "df_cm = cm\n",
    "sns.heatmap(df_cm, annot=True, annot_kws={\"size\": 30}, fmt='d',cmap=\"Blues\", ax = ax )\n",
    "ax.set_title('Confusion Matrix')\n",
    "plt.show()\n",
    "\n",
    "# Sensitivity\n",
    "print(\"Sensitivity: \" + str(cm[1,1]/(cm[1,1]+cm[1,0])))\n",
    "\n",
    "# Specificity\n",
    "print(\"Specificity: \" + str(cm[0,0]/(cm[0,0]+cm[0,1])))\n",
    "\n",
    "# Accuracy\n",
    "print(\"Accuracy: \" + str((cm[0,0]+cm[1,1])/(cm[0,0]+cm[0,1]+cm[1,0]+cm[1,1])))"
   ],
   "id": "d3bac083b7ae8e6a"
  },
  {
   "metadata": {},
   "cell_type": "markdown",
   "source": "Calculate the AUC score and plot the ROC curve of the classifier using the roc_curve method from the sklearn package. Look into the documentation to see what parameters the methods needs.",
   "id": "e824aa71ceadde9a"
  },
  {
   "metadata": {},
   "cell_type": "code",
   "outputs": [],
   "execution_count": null,
   "source": [
    "from sklearn.metrics import roc_auc_score\n",
    "from sklearn.metrics import roc_curve\n",
    "\n",
    "logit_roc_auc = roc_auc_score(y_test, classifier.predict(X_test_sc))\n",
    "\n",
    "print(\"AUC: \", logit_roc_auc)\n",
    "fpr, tpr, thresholds = roc_curve(y_test, classifier.predict_proba(X_test_sc)[:,1])\n",
    "\n",
    "plt.figure()\n",
    "plt.plot(fpr, tpr, label='Logistic Regression (area = %0.2f)' % logit_roc_auc)\n",
    "plt.plot([0, 1], [0, 1],'r--')\n",
    "plt.xlim([-0.05, 1.0])\n",
    "plt.ylim([-0.05, 1.05])\n",
    "plt.xlabel('False Positive Rate')\n",
    "plt.ylabel('True Positive Rate')\n",
    "plt.title('Receiver operating characteristic')\n",
    "plt.legend(loc=\"lower right\")\n",
    "plt.savefig('Log_ROC.png', dpi=200)\n",
    "plt.show()"
   ],
   "id": "2e29167d4ff3de55"
  }
 ],
 "metadata": {},
 "nbformat": 5,
 "nbformat_minor": 9
}
