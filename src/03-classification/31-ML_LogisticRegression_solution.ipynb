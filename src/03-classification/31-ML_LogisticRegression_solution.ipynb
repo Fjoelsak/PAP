{
 "cells": [
  {
   "metadata": {
    "ExecuteTime": {
     "end_time": "2024-12-18T08:29:46.636010Z",
     "start_time": "2024-12-18T08:29:46.628549Z"
    }
   },
   "cell_type": "code",
   "source": [
    "# Excercise 1: Logistic Regression with Python\n",
    "\n",
    "Load the dataset Data_LogReg.csv as a DataFrame and visualize the first rows of the dataset."
   ],
   "outputs": [
    {
     "ename": "SyntaxError",
     "evalue": "invalid syntax (1972722187.py, line 3)",
     "output_type": "error",
     "traceback": [
      "\u001B[1;36m  Cell \u001B[1;32mIn[1], line 3\u001B[1;36m\u001B[0m\n\u001B[1;33m    Load the dataset Data_LogReg.csv as a DataFrame and visualize the first rows of the dataset.\u001B[0m\n\u001B[1;37m         ^\u001B[0m\n\u001B[1;31mSyntaxError\u001B[0m\u001B[1;31m:\u001B[0m invalid syntax\n"
     ]
    }
   ],
   "execution_count": 1
  },
  {
   "metadata": {},
   "cell_type": "code",
   "outputs": [],
   "execution_count": null,
   "source": [
    "import pandas as pd\n",
    "\n",
    "dataset = pd.read_csv(\"../../data/logregdata.csv\")\n",
    "dataset.head()"
   ]
  },
  {
   "metadata": {},
   "cell_type": "markdown",
   "source": "Plot a scatter plot of the data using matplotlib.pyplot"
  },
  {
   "metadata": {},
   "cell_type": "code",
   "outputs": [],
   "execution_count": null,
   "source": [
    "import matplotlib.pyplot as plt\n",
    "\n",
    "plt.scatter(dataset['Income'], dataset['Purchase(Y/N)'], color = 'red')\n",
    "plt.xlabel('Income in €')\n",
    "plt.ylabel('Purchase (Y/N)')\n",
    "plt.title('Purchase vs Income')\n",
    "plt.show()"
   ]
  },
  {
   "metadata": {},
   "cell_type": "markdown",
   "source": "Scale the data using the Standard Scaler from the sklearn package (https://scikit-learn.org/stable/modules/generated/sklearn.preprocessing.StandardScaler.html#sklearn.preprocessing.StandardScaler)"
  },
  {
   "metadata": {},
   "cell_type": "code",
   "outputs": [],
   "execution_count": null,
   "source": [
    "from sklearn.preprocessing import StandardScaler\n",
    "import numpy as np\n",
    "\n",
    "scaler = StandardScaler()\n",
    "X_sc = scaler.fit_transform(dataset[['Income']])\n",
    "\n",
    "print(np.mean(X_sc))\n",
    "print(np.std(X_sc))"
   ]
  },
  {
   "metadata": {},
   "cell_type": "markdown",
   "source": "Split the data into a training and test data set with a fraction of 80%/20%, respectively."
  },
  {
   "metadata": {},
   "cell_type": "code",
   "outputs": [],
   "execution_count": null,
   "source": [
    "from sklearn.model_selection import train_test_split\n",
    "\n",
    "X_train_sc, X_test_sc, y_train, y_test = train_test_split(X_sc, dataset['Purchase(Y/N)'], test_size = 0.2, random_state = 0)"
   ]
  },
  {
   "metadata": {},
   "cell_type": "markdown",
   "source": "Instantiate a logistic Regressor, train it, do a reverse scaling on the X values and plot it with the data in a scatter plot. Determine how you can plot the lineplot of the classifier. Sorting things can be useful here."
  },
  {
   "metadata": {},
   "cell_type": "code",
   "outputs": [],
   "execution_count": null,
   "source": [
    "import numpy as np\n",
    "import matplotlib.pyplot as plt\n",
    "\n",
    "from sklearn.linear_model import LogisticRegression\n",
    "\n",
    "classifier = LogisticRegression()\n",
    "classifier.fit(X_train_sc, y_train)\n",
    "\n",
    "X_train = scaler.inverse_transform(X_train_sc)\n",
    "X_test = scaler.inverse_transform(X_test_sc)\n",
    "\n",
    "# classifier returns output for each class!\n",
    "y_train_pred = classifier.predict_proba(np.sort(X_train_sc, axis=0))[:,1]\n",
    "plt.scatter(X_train, y_train, color='red')\n",
    "plt.plot(np.sort(X_train, axis=0), y_train_pred, color='green')\n",
    "plt.xlabel('Income in €')\n",
    "plt.ylabel('Purchase (Y/N)')\n",
    "plt.title('Purchase vs Income')\n",
    "plt.show()\n",
    "\n",
    "y_test_pred = classifier.predict_proba(np.sort(X_test_sc, axis=0))[:,1]\n",
    "plt.scatter(X_test, y_test, color='blue')\n",
    "plt.plot(np.sort(X_test, axis=0), y_test_pred, color='green')\n",
    "plt.xlabel('Income in €')\n",
    "plt.ylabel('Purchase (Y/N)')\n",
    "plt.title('Purchase vs Income')\n",
    "plt.show()\n",
    "\n"
   ]
  },
  {
   "metadata": {},
   "cell_type": "markdown",
   "source": "# Exercise 2: Performance metrics for classifiers"
  },
  {
   "metadata": {},
   "cell_type": "markdown",
   "source": [
    "Take the classifier you trained above, predict the test data and calculate the accuracy, precision, sensitivity (recall) and specificity of the classifier.\n",
    "\n",
    "Remark: you can use again the heatmap method from the seaborn package to plot the confusion matrix in a nice way."
   ]
  },
  {
   "metadata": {},
   "cell_type": "code",
   "outputs": [],
   "execution_count": null,
   "source": [
    "from sklearn.metrics import confusion_matrix\n",
    "import seaborn as sns\n",
    "\n",
    "# Predicting the Test set results\n",
    "y_pred = classifier.predict(X_test_sc)\n",
    "\n",
    "# Making the Confusion Matrix\n",
    "cm = confusion_matrix(y_test, y_pred)\n",
    "print(\"Confusion Matrix:\\n \" + str(cm))\n",
    "\n",
    "# Plot confusion matrix\n",
    "# confusion matrix sns heatmap \n",
    "ax = plt.axes()\n",
    "df_cm = cm\n",
    "sns.heatmap(df_cm, annot=True, annot_kws={\"size\": 30}, fmt='d',cmap=\"Blues\", ax = ax )\n",
    "ax.set_title('Confusion Matrix')\n",
    "plt.show()\n",
    "\n",
    "# Sensitivity\n",
    "print(\"Sensitivity: \" + str(cm[1,1]/(cm[1,1]+cm[1,0])))\n",
    "\n",
    "# Specificity\n",
    "print(\"Specificity: \" + str(cm[0,0]/(cm[0,0]+cm[0,1])))\n",
    "\n",
    "# Accuracy\n",
    "print(\"Accuracy: \" + str((cm[0,0]+cm[1,1])/(cm[0,0]+cm[0,1]+cm[1,0]+cm[1,1])))"
   ]
  },
  {
   "metadata": {},
   "cell_type": "markdown",
   "source": "Calculate the AUC score and plot the ROC curve of the classifier using the roc_curve method from the sklearn package. Look into the documentation to see what parameters the methods needs."
  },
  {
   "metadata": {},
   "cell_type": "code",
   "outputs": [],
   "execution_count": null,
   "source": [
    "from sklearn.metrics import roc_auc_score\n",
    "from sklearn.metrics import roc_curve\n",
    "\n",
    "logit_roc_auc = roc_auc_score(y_test, classifier.predict(X_test_sc))\n",
    "\n",
    "print(\"AUC: \", logit_roc_auc)\n",
    "fpr, tpr, thresholds = roc_curve(y_test, classifier.predict_proba(X_test_sc)[:,1])\n",
    "\n",
    "plt.figure()\n",
    "plt.plot(fpr, tpr, label='Logistic Regression (area = %0.2f)' % logit_roc_auc)\n",
    "plt.plot([0, 1], [0, 1],'r--')\n",
    "plt.xlim([-0.05, 1.0])\n",
    "plt.ylim([-0.05, 1.05])\n",
    "plt.xlabel('False Positive Rate')\n",
    "plt.ylabel('True Positive Rate')\n",
    "plt.title('Receiver operating characteristic')\n",
    "plt.legend(loc=\"lower right\")\n",
    "plt.savefig('Log_ROC.png', dpi=200)\n",
    "plt.show()"
   ]
  }
 ],
 "metadata": {
  "kernelspec": {
   "name": "python3",
   "language": "python",
   "display_name": "Python 3 (ipykernel)"
  }
 },
 "nbformat": 4,
 "nbformat_minor": 2
}
