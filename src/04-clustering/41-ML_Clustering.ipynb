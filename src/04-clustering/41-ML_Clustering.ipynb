{
 "cells": [
  {
   "cell_type": "markdown",
   "metadata": {},
   "source": [
    "# Excercise 1: k-means clustering lecture example\n",
    "\n",
    "Apply the KMeans clustering algorithm to the given data points and print out the cluster lables of the data points, the cluster centers and predict the cluster of the data points [0, 0] and [5, 3]."
   ]
  },
  {
   "cell_type": "code",
   "metadata": {},
   "source": [
    "from sklearn.cluster import KMeans\n",
    "import numpy as np\n",
    "\n",
    "# Generate data\n",
    "X = np.array([[1, 2], [0, 1], [4, 2],[5, 4], [6, 1], [1, 4]])\n",
    "\n",
    "...\n"
   ],
   "outputs": [],
   "execution_count": null
  },
  {
   "cell_type": "markdown",
   "metadata": {},
   "source": [
    "Plot the clusters and the cluster centers."
   ]
  },
  {
   "cell_type": "code",
   "metadata": {},
   "source": [
    "import matplotlib.pyplot as plt\n",
    "\n",
    "..."
   ],
   "outputs": [],
   "execution_count": null
  },
  {
   "cell_type": "markdown",
   "metadata": {},
   "source": [
    "# Excercise 2: k-means clustering with several larger data sets"
   ]
  },
  {
   "cell_type": "markdown",
   "metadata": {},
   "source": [
    "Run the following cell to generate four larger datasets `XBalls`, `XBMouse`, `XMoons` and `Xcircels`."
   ]
  },
  {
   "cell_type": "code",
   "metadata": {},
   "source": [
    "import numpy as np\n",
    "import matplotlib.pyplot as plt\n",
    "\n",
    "def bubbleSetNormal(mx,my,number,s):\n",
    "    x = np.random.normal(0, s, number) + mx\n",
    "    y = np.random.normal(0, s, number) + my\n",
    "    return(x,y)\n",
    "\n",
    "def fourBalls(n1,n2,n3,n4):\n",
    "    np.random.seed(42)        \n",
    "    dataset = np.zeros( (n1+n2+n3+n4,2) )    \n",
    "    (dataset[0:n1,0],dataset[0:n1,1])     = bubbleSetNormal( 2.5, 1.0,n1,0.5)     \n",
    "    (dataset[n1:n1+n2,0],dataset[n1:n1+n2,1]) = bubbleSetNormal( 2.0,-3.0,n2,0.3)    \n",
    "    (dataset[n1+n2:n1+n2+n3,0],dataset[n1+n2:n1+n2+n3,1]) = bubbleSetNormal(-2.0, 5.0,n3,0.6)   \n",
    "    (dataset[n1+n2+n3:n1+n2+n3+n4,0],dataset[n1+n2+n3:n1+n2+n3+n4,1]) = bubbleSetNormal(-4.0,-1.0,n4,0.9)        \n",
    "    return (dataset)   \n",
    "\n",
    "def mouseShape():\n",
    "    np.random.seed(42)        \n",
    "    dataset = np.zeros( (1000,2) )    \n",
    "    (dataset[0:150,0],dataset[0:150,1])     = bubbleSetNormal(-0.75, 0.75,150,0.15)     \n",
    "    (dataset[150:300,0],dataset[150:300,1]) = bubbleSetNormal( 0.75, 0.75,150,0.15)    \n",
    "    (dataset[300:1000,0],dataset[300:1000,1]) = bubbleSetNormal( 0, 0,700,0.29)   \n",
    "    return (dataset) \n",
    "\n",
    "def twoMoonsProblem( SamplesPerMoon=240, pNoise=2):\n",
    "    np.random.seed(42) \n",
    "    tMoon0 = np.linspace(0, np.pi, SamplesPerMoon)\n",
    "    tMoon1 = np.linspace(0, np.pi, SamplesPerMoon)\n",
    "    Moon0x = np.cos(tMoon0)\n",
    "    Moon0y = np.sin(tMoon0)\n",
    "    Moon1x = 1 - np.cos(tMoon1)\n",
    "    Moon1y = 0.5 - np.sin(tMoon1) \n",
    "    X = np.vstack((np.append(Moon0x, Moon1x), np.append(Moon0y, Moon1y))).T\n",
    "    X = X + pNoise/100*np.random.normal(size=X.shape)\n",
    "    Y = np.hstack([np.zeros(SamplesPerMoon), np.ones(SamplesPerMoon)])\n",
    "    return X, Y\n",
    "\n",
    "def circels():\n",
    "    np.random.seed(42) \n",
    "    phi = np.linspace(0,2*np.pi, 800)\n",
    "    x1 = 1.5*np.cos(phi)\n",
    "    y1 = 1.5*np.sin(phi) \n",
    "    x2 = 0.5*np.cos(phi)\n",
    "    y2 = 0.5*np.sin(phi)\n",
    "    X = np.vstack((np.append(x1,x2), np.append(y1,y2))).T\n",
    "    X = X + 0.1*np.random.normal(size=X.shape)\n",
    "    return(X)\n",
    "\n",
    "n1=n2=200\n",
    "n3=n4=200\n",
    "# Testbeispiel 1\n",
    "XBalls = fourBalls(n1,n2,n3,n4)\n",
    "\n",
    "# Testbeispiel 2\n",
    "XBMouse = mouseShape() \n",
    "\n",
    "# Testbeispiel 3\n",
    "(XMoons,_) = twoMoonsProblem()\n",
    "\n",
    "# Testbeispiel 4    \n",
    "Xcircles = circels()"
   ],
   "outputs": [],
   "execution_count": null
  },
  {
   "cell_type": "markdown",
   "metadata": {},
   "source": [
    "Take the dataset `XBMouse` and plot an ellbow plot to determine the optimal number of clusters. In addition, use the `KneeLocator` method from the kneed library to determine the optimal number of clusters."
   ]
  },
  {
   "cell_type": "code",
   "metadata": {},
   "source": [
    "# just to suppress the warning that the kmeans algorithm uses some memory it should not use\n",
    "\n",
    "import warnings\n",
    "warnings.filterwarnings('ignore')"
   ],
   "outputs": [],
   "execution_count": null
  },
  {
   "cell_type": "code",
   "metadata": {},
   "source": [
    "from kneed import KneeLocator\n",
    "from sklearn.cluster import KMeans\n",
    "import matplotlib.pyplot as plt\n",
    "\n",
    "..."
   ],
   "outputs": [],
   "execution_count": null
  },
  {
   "cell_type": "markdown",
   "metadata": {},
   "source": [
    "Apply the k-Means algorithm to the data sets, think about the appropriate number of clusters and plot the clusters and the cluster centers. Which of the datasets can be clustered well with k-Means? What are the limitations of the approach? How to enable kmeans++ or random initialization with severl runs in scikit-learn?"
   ]
  },
  {
   "cell_type": "code",
   "metadata": {},
   "source": [
    "from sklearn.cluster import KMeans\n",
    "import matplotlib.pyplot as plt\n",
    "\n",
    "..."
   ],
   "outputs": [],
   "execution_count": null
  },
  {
   "cell_type": "code",
   "metadata": {},
   "source": [
    "from sklearn.cluster import KMeans\n",
    "import matplotlib.pyplot as plt\n",
    "\n",
    "..."
   ],
   "outputs": [],
   "execution_count": null
  },
  {
   "cell_type": "code",
   "metadata": {},
   "source": [
    "from sklearn.cluster import KMeans\n",
    "import matplotlib.pyplot as plt\n",
    "\n",
    "..."
   ],
   "outputs": [],
   "execution_count": null
  },
  {
   "cell_type": "code",
   "metadata": {},
   "source": [
    "from sklearn.cluster import KMeans\n",
    "import matplotlib.pyplot as plt\n",
    "\n",
    "..."
   ],
   "outputs": [],
   "execution_count": null
  }
 ],
 "metadata": {
  "kernelspec": {
   "display_name": "base",
   "language": "python",
   "name": "python3"
  },
  "language_info": {
   "codemirror_mode": {
    "name": "ipython",
    "version": 3
   },
   "file_extension": ".py",
   "mimetype": "text/x-python",
   "name": "python",
   "nbconvert_exporter": "python",
   "pygments_lexer": "ipython3",
   "version": "3.9.12"
  }
 },
 "nbformat": 4,
 "nbformat_minor": 2
}
